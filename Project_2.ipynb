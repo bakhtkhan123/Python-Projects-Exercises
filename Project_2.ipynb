{
  "nbformat": 4,
  "nbformat_minor": 0,
  "metadata": {
    "colab": {
      "provenance": [],
      "authorship_tag": "ABX9TyN/nhE8nRUKC7tE41X+Hyag",
      "include_colab_link": true
    },
    "kernelspec": {
      "name": "python3",
      "display_name": "Python 3"
    },
    "language_info": {
      "name": "python"
    }
  },
  "cells": [
    {
      "cell_type": "markdown",
      "metadata": {
        "id": "view-in-github",
        "colab_type": "text"
      },
      "source": [
        "<a href=\"https://colab.research.google.com/github/bakhtkhan123/Python-Projects-Exercises/blob/main/Project_2.ipynb\" target=\"_parent\"><img src=\"https://colab.research.google.com/assets/colab-badge.svg\" alt=\"Open In Colab\"/></a>"
      ]
    },
    {
      "cell_type": "markdown",
      "source": [
        "## Password Generator program"
      ],
      "metadata": {
        "id": "hm-hYQDB1S0k"
      }
    },
    {
      "cell_type": "code",
      "execution_count": 1,
      "metadata": {
        "id": "gEuerA1j1OOM"
      },
      "outputs": [],
      "source": [
        "import random as rn"
      ]
    },
    {
      "cell_type": "code",
      "source": [
        "print(\"Password Generator\")\n",
        "letter = int(input(\"Enter the number of letters you want in your password?\\n\"))\n",
        "symbol = int(input(\"How many symbol you want in your password?\\n\"))\n",
        "number = int(input(\"How many number you want in your password?\\n\"))\n",
        "numbers =['0','1','2','3','4','5','6','7','8','9']\n",
        "symbols = [\"!\",\"$\",\"%\",\"#\",\"&\",\"*\",\"/\",\"|\",\"?\"]\n",
        "letters =[\"A\",\"a\",\"b\",\"B\",\"C\",\"c\",\"d\",\"D\",\"e\",\"E\",\"F\",\"f\",\"g\",\"G\",\"h\",\"H\",\"I\",\"i\",\"J\",\"j\",\"k\",\"K\",\"l\",\"L\",\"m\",\"M\",\"n\",\"N\",\"O\",\"o\",\"P\",\"p\",\"q\",\"Q\",\"r\",\"R\",\"s\",\"S\",\"t\",\"T\",\"U\",\"u\",\"V\",\"v\",\"w\",\"W\",\"X\",\"x\",\"y\",\"Y\",\"Z\",\"z\"]\n",
        "password = []\n",
        "for i in range(letter):\n",
        "  x=rn.choice(letters)\n",
        "  password.append(x)\n",
        "\n",
        "for i in range(symbol):\n",
        "  y=rn.choice(symbols)\n",
        "  password.append(y)\n",
        "\n",
        "for i in range(number):\n",
        "  z=rn.choice(numbers)\n",
        "  password.append(z)\n",
        "#print(password)\n",
        "rn.shuffle(password)\n",
        "pwd_list = \"\"\n",
        "for i in password:\n",
        "  pwd_list += i\n",
        "print(\"your password is = \",pwd_list)"
      ],
      "metadata": {
        "colab": {
          "base_uri": "https://localhost:8080/"
        },
        "id": "3pdJXX8g1kW6",
        "outputId": "31f7e5ae-084e-4933-c9aa-8478033b3948"
      },
      "execution_count": 38,
      "outputs": [
        {
          "output_type": "stream",
          "name": "stdout",
          "text": [
            "Password Generator\n",
            "Enter the number of letters you want in your password?\n",
            "4\n",
            "How many symbol you want in your password?\n",
            "3\n",
            "How many number you want in your password?\n",
            "2\n",
            "your password is =  Cvr%?O|36\n"
          ]
        }
      ]
    },
    {
      "cell_type": "code",
      "source": [
        "a='x'\n",
        "b='yz'\n",
        "ab = a+b\n",
        "print(ab)"
      ],
      "metadata": {
        "colab": {
          "base_uri": "https://localhost:8080/"
        },
        "id": "UYwgzJq68mbt",
        "outputId": "1467e719-61e3-4628-bad6-45d457a0335a"
      },
      "execution_count": 15,
      "outputs": [
        {
          "output_type": "stream",
          "name": "stdout",
          "text": [
            "xyz\n"
          ]
        }
      ]
    }
  ]
}