{
  "nbformat": 4,
  "nbformat_minor": 0,
  "metadata": {
    "colab": {
      "provenance": [],
      "authorship_tag": "ABX9TyMaN5MTNwalo+nRYCYm7Ujs",
      "include_colab_link": true
    },
    "kernelspec": {
      "name": "python3",
      "display_name": "Python 3"
    },
    "language_info": {
      "name": "python"
    }
  },
  "cells": [
    {
      "cell_type": "markdown",
      "metadata": {
        "id": "view-in-github",
        "colab_type": "text"
      },
      "source": [
        "<a href=\"https://colab.research.google.com/github/bakhtkhan123/Python-Projects-Exercises/blob/main/Copy_of_Coding_exercise9.ipynb\" target=\"_parent\"><img src=\"https://colab.research.google.com/assets/colab-badge.svg\" alt=\"Open In Colab\"/></a>"
      ]
    },
    {
      "cell_type": "markdown",
      "source": [
        "## Virtual Coin Toss Program"
      ],
      "metadata": {
        "id": "8OJXOrrQjxGJ"
      }
    },
    {
      "cell_type": "code",
      "execution_count": null,
      "metadata": {
        "colab": {
          "base_uri": "https://localhost:8080/"
        },
        "id": "p_kpTIHOiK6j",
        "outputId": "6e414147-2c32-4822-c5c2-e0c6c97ce555"
      },
      "outputs": [
        {
          "output_type": "stream",
          "name": "stdout",
          "text": [
            "Head\n"
          ]
        }
      ],
      "source": [
        "import random\n",
        "side= random.randint(0,1)\n",
        "if side == 1:\n",
        "  print(\"Head\")\n",
        "else:\n",
        "  print(\"Tail\")"
      ]
    }
  ]
}