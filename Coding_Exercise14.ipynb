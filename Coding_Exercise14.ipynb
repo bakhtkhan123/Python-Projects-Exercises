{
  "nbformat": 4,
  "nbformat_minor": 0,
  "metadata": {
    "colab": {
      "provenance": [],
      "authorship_tag": "ABX9TyMkgQSMobxMQIEBlm0y8+4s",
      "include_colab_link": true
    },
    "kernelspec": {
      "name": "python3",
      "display_name": "Python 3"
    },
    "language_info": {
      "name": "python"
    }
  },
  "cells": [
    {
      "cell_type": "markdown",
      "metadata": {
        "id": "view-in-github",
        "colab_type": "text"
      },
      "source": [
        "<a href=\"https://colab.research.google.com/github/bakhtkhan123/Python-Projects-Exercises/blob/main/Coding_Exercise14.ipynb\" target=\"_parent\"><img src=\"https://colab.research.google.com/assets/colab-badge.svg\" alt=\"Open In Colab\"/></a>"
      ]
    },
    {
      "cell_type": "markdown",
      "source": [
        "## Write a program which print all Even numbers between 1 to 100"
      ],
      "metadata": {
        "id": "j8dL-koZxlqg"
      }
    },
    {
      "cell_type": "code",
      "execution_count": null,
      "metadata": {
        "id": "yIelbdzgxVs6"
      },
      "outputs": [],
      "source": [
        "numbers = range(2,101,2)\n",
        "for i in numbers:\n",
        "  print(i)"
      ]
    },
    {
      "cell_type": "code",
      "source": [
        "for i in range(1,101):\n",
        "  if i%2 == 0:\n",
        "    print(\"Even\")\n",
        "  else:\n",
        "    print(i)"
      ],
      "metadata": {
        "id": "cuh-hGdYyruI"
      },
      "execution_count": null,
      "outputs": []
    },
    {
      "cell_type": "markdown",
      "source": [
        "## write a program for pizzbuzz game"
      ],
      "metadata": {
        "id": "xoK15b-CzHxH"
      }
    },
    {
      "cell_type": "code",
      "source": [
        "for i in range(1,16):\n",
        "  if i%3==0 and i%5 == 0:\n",
        "    print(\"Pizzbuzz\")\n",
        "  elif i%3==0:\n",
        "    print(\"Pizz\")\n",
        "  elif i%5 == 0:\n",
        "    print(\"buzz\")\n",
        "  else:\n",
        "    print(i)"
      ],
      "metadata": {
        "colab": {
          "base_uri": "https://localhost:8080/"
        },
        "id": "7ZR6S2_szS-d",
        "outputId": "cc0ae962-dd7a-4c55-de65-2421fe0e7db2"
      },
      "execution_count": 7,
      "outputs": [
        {
          "output_type": "stream",
          "name": "stdout",
          "text": [
            "1\n",
            "2\n",
            "Pizz\n",
            "4\n",
            "buzz\n",
            "Pizz\n",
            "7\n",
            "8\n",
            "Pizz\n",
            "buzz\n",
            "11\n",
            "Pizz\n",
            "13\n",
            "14\n",
            "Pizzbuzz\n"
          ]
        }
      ]
    }
  ]
}