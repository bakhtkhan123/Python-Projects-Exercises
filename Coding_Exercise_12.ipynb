{
  "nbformat": 4,
  "nbformat_minor": 0,
  "metadata": {
    "colab": {
      "provenance": [],
      "authorship_tag": "ABX9TyMbAd8qjnEt+eGpxvgfcrMJ",
      "include_colab_link": true
    },
    "kernelspec": {
      "name": "python3",
      "display_name": "Python 3"
    },
    "language_info": {
      "name": "python"
    }
  },
  "cells": [
    {
      "cell_type": "markdown",
      "metadata": {
        "id": "view-in-github",
        "colab_type": "text"
      },
      "source": [
        "<a href=\"https://colab.research.google.com/github/bakhtkhan123/Python-Projects-Exercises/blob/main/Coding_Exercise_12.ipynb\" target=\"_parent\"><img src=\"https://colab.research.google.com/assets/colab-badge.svg\" alt=\"Open In Colab\"/></a>"
      ]
    },
    {
      "cell_type": "markdown",
      "source": [
        "## Write a program to find average height from a list of heights"
      ],
      "metadata": {
        "id": "C-rYm59WUyu5"
      }
    },
    {
      "cell_type": "code",
      "execution_count": 17,
      "metadata": {
        "colab": {
          "base_uri": "https://localhost:8080/"
        },
        "id": "Mu5L_ARmUh2H",
        "outputId": "762d975e-c43a-42df-ed33-261ab6c3e7cc"
      },
      "outputs": [
        {
          "output_type": "stream",
          "name": "stdout",
          "text": [
            "enter the numbers 142 152 145 146\n",
            "['142', '152', '145', '146']\n"
          ]
        }
      ],
      "source": [
        "Height = input(\"enter the numbers \")\n",
        "Height_list = Height.split()\n",
        "print(Height_list)"
      ]
    },
    {
      "cell_type": "code",
      "source": [
        "length = 0\n",
        "for i in Height_list:\n",
        "  length = length+1\n",
        "print(length)"
      ],
      "metadata": {
        "colab": {
          "base_uri": "https://localhost:8080/"
        },
        "id": "M6Reecb2XsBt",
        "outputId": "09ddd461-cc56-4ab9-f33a-1162cb547c36"
      },
      "execution_count": 19,
      "outputs": [
        {
          "output_type": "stream",
          "name": "stdout",
          "text": [
            "4\n"
          ]
        }
      ]
    },
    {
      "cell_type": "code",
      "source": [
        "for i in range(0,length):\n",
        "  Height_list[i]= int(Height_list[i])\n",
        "print(Height_list)"
      ],
      "metadata": {
        "colab": {
          "base_uri": "https://localhost:8080/"
        },
        "id": "vHg-Bz5bWf5X",
        "outputId": "9902343d-9439-4db7-ee41-cc172f29f7a6"
      },
      "execution_count": 20,
      "outputs": [
        {
          "output_type": "stream",
          "name": "stdout",
          "text": [
            "[142, 152, 145, 146]\n"
          ]
        }
      ]
    },
    {
      "cell_type": "code",
      "source": [
        "total = 0\n",
        "for i in Height_list:\n",
        "  total = total + i\n",
        "print(total)"
      ],
      "metadata": {
        "colab": {
          "base_uri": "https://localhost:8080/"
        },
        "id": "Jfg2hYO8bwE4",
        "outputId": "d2078524-df11-4019-e6d9-37fa09e3fc8f"
      },
      "execution_count": 21,
      "outputs": [
        {
          "output_type": "stream",
          "name": "stdout",
          "text": [
            "585\n"
          ]
        }
      ]
    },
    {
      "cell_type": "code",
      "source": [
        "average = total/length\n",
        "print(round(average))"
      ],
      "metadata": {
        "colab": {
          "base_uri": "https://localhost:8080/"
        },
        "id": "c3lKfxQMcDbu",
        "outputId": "be9c76b7-6095-4420-c54b-ce8fa60d6701"
      },
      "execution_count": 26,
      "outputs": [
        {
          "output_type": "stream",
          "name": "stdout",
          "text": [
            "146\n"
          ]
        }
      ]
    }
  ]
}