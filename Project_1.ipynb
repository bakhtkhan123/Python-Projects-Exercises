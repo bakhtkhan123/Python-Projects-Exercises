{
  "nbformat": 4,
  "nbformat_minor": 0,
  "metadata": {
    "colab": {
      "provenance": [],
      "authorship_tag": "ABX9TyOZS+xT0ER5H0eNPQ62s+hA",
      "include_colab_link": true
    },
    "kernelspec": {
      "name": "python3",
      "display_name": "Python 3"
    },
    "language_info": {
      "name": "python"
    }
  },
  "cells": [
    {
      "cell_type": "markdown",
      "metadata": {
        "id": "view-in-github",
        "colab_type": "text"
      },
      "source": [
        "<a href=\"https://colab.research.google.com/github/bakhtkhan123/Python-Projects-Exercises/blob/main/Project_1.ipynb\" target=\"_parent\"><img src=\"https://colab.research.google.com/assets/colab-badge.svg\" alt=\"Open In Colab\"/></a>"
      ]
    },
    {
      "cell_type": "markdown",
      "source": [
        "##Rock Paper Scissor Game"
      ],
      "metadata": {
        "id": "Tn4RU9-F6Z1l"
      }
    },
    {
      "cell_type": "markdown",
      "source": [
        "### Rules\n",
        "####Rock wins against Scissors\n",
        "####Scissor wins against paper\n",
        "####Paper wins against Rock"
      ],
      "metadata": {
        "id": "cGhDvO7o6x97"
      }
    },
    {
      "cell_type": "code",
      "source": [
        "import random as rn"
      ],
      "metadata": {
        "id": "Ek66KQZo8WxV"
      },
      "execution_count": 1,
      "outputs": []
    },
    {
      "cell_type": "code",
      "source": [
        "\n",
        "Rock = \"✊\"\n",
        "Paper =\"🤚\"\n",
        "Scissor = \"✌️\""
      ],
      "metadata": {
        "id": "E2wywzRqCVRp"
      },
      "execution_count": 9,
      "outputs": []
    },
    {
      "cell_type": "code",
      "source": [
        "Game_Emoji=[Rock,Paper,Scissor]\n",
        "print(Game_Emoji)"
      ],
      "metadata": {
        "colab": {
          "base_uri": "https://localhost:8080/"
        },
        "id": "JSnWbnpkF3BQ",
        "outputId": "e63bf3a7-da22-4e7f-fe3d-d5a0d2c199f1"
      },
      "execution_count": 10,
      "outputs": [
        {
          "output_type": "stream",
          "name": "stdout",
          "text": [
            "['✊', '🤚', '✌️']\n"
          ]
        }
      ]
    },
    {
      "cell_type": "code",
      "execution_count": 15,
      "metadata": {
        "colab": {
          "base_uri": "https://localhost:8080/"
        },
        "id": "49-A5NWq6QiF",
        "outputId": "8acbbcfc-fb69-4fe7-ad5f-88e2fdf92642"
      },
      "outputs": [
        {
          "output_type": "stream",
          "name": "stdout",
          "text": [
            "Enter your Choice: Type 0 for Rock , 1 for Paper , 2 for Scissor. 1\n",
            "You Choose  🤚\n",
            "Computer choose  ✌️\n",
            "Computer Win 😭😭😭\n"
          ]
        }
      ],
      "source": [
        "User_Choice = int(input(\"Enter your Choice: Type 0 for Rock , 1 for Paper , 2 for Scissor. \"))\n",
        "if User_Choice > 2 or User_Choice < 0:\n",
        "  print(\"Enter the valid choice\")\n",
        "else:\n",
        "  print(\"You Choose \",Game_Emoji[User_Choice])\n",
        "  Computer_Choice = rn.randint(0,2)\n",
        "  print(\"Computer choose \",Game_Emoji[Computer_Choice])\n",
        "  if User_Choice == Computer_Choice:\n",
        "    print(\"Game Draw\")\n",
        "  elif User_Choice == 2 and Computer_Choice == 0:\n",
        "    print(\"Computer Win 😭😭😭\")\n",
        "  elif User_Choice == 0 and Computer_Choice == 2:\n",
        "    print(\"You win 👏👏👏\")\n",
        "  elif User_Choice > Computer_Choice:\n",
        "    print(\"You win 👏👏👏 \")\n",
        "  elif Computer_Choice > User_Choice:\n",
        "    print(\"Computer Win 😭😭😭\")\n",
        "\n"
      ]
    }
  ]
}