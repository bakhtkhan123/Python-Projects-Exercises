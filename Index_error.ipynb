{
  "nbformat": 4,
  "nbformat_minor": 0,
  "metadata": {
    "colab": {
      "provenance": [],
      "authorship_tag": "ABX9TyPvmCYXZ3xnSAwJuVtBSqBe",
      "include_colab_link": true
    },
    "kernelspec": {
      "name": "python3",
      "display_name": "Python 3"
    },
    "language_info": {
      "name": "python"
    }
  },
  "cells": [
    {
      "cell_type": "markdown",
      "metadata": {
        "id": "view-in-github",
        "colab_type": "text"
      },
      "source": [
        "<a href=\"https://colab.research.google.com/github/bakhtkhan123/Python-Projects-Exercises/blob/main/Index_error.ipynb\" target=\"_parent\"><img src=\"https://colab.research.google.com/assets/colab-badge.svg\" alt=\"Open In Colab\"/></a>"
      ]
    },
    {
      "cell_type": "code",
      "execution_count": 17,
      "metadata": {
        "colab": {
          "base_uri": "https://localhost:8080/"
        },
        "id": "3guXbgB_sAyJ",
        "outputId": "d0cc5938-780d-45ca-c60e-b0c381b4d285"
      },
      "outputs": [
        {
          "output_type": "stream",
          "name": "stdout",
          "text": [
            "Hi,asad\n",
            "Hi,bakht\n"
          ]
        }
      ],
      "source": [
        "Names=[\"bakht\",\"sami\",\"raza\",\"asad\"]\n",
        "Length=len(Names)\n",
        "#If I just enter the length it will give me an index error\n",
        "#index start from zero while length start from one and last element can be accessed by negative index from minus one\n",
        "print(f\"Hi,{Names[Length-1]}\")\n",
        "print(f\"Hi,{Names[-Length]}\")"
      ]
    }
  ]
}