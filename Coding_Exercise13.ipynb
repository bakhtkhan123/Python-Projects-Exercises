{
  "nbformat": 4,
  "nbformat_minor": 0,
  "metadata": {
    "colab": {
      "provenance": [],
      "authorship_tag": "ABX9TyO8DoHqtfJeEKkk5xiVbsCs",
      "include_colab_link": true
    },
    "kernelspec": {
      "name": "python3",
      "display_name": "Python 3"
    },
    "language_info": {
      "name": "python"
    }
  },
  "cells": [
    {
      "cell_type": "markdown",
      "metadata": {
        "id": "view-in-github",
        "colab_type": "text"
      },
      "source": [
        "<a href=\"https://colab.research.google.com/github/bakhtkhan123/Python-Projects-Exercises/blob/main/Coding_Exercise13.ipynb\" target=\"_parent\"><img src=\"https://colab.research.google.com/assets/colab-badge.svg\" alt=\"Open In Colab\"/></a>"
      ]
    },
    {
      "cell_type": "markdown",
      "source": [
        "## Write a program to calculate the maximum number of th list"
      ],
      "metadata": {
        "id": "sj8NTCYCezMq"
      }
    },
    {
      "cell_type": "code",
      "execution_count": 6,
      "metadata": {
        "colab": {
          "base_uri": "https://localhost:8080/"
        },
        "id": "yML9HA5lenFA",
        "outputId": "0ade95a4-aaa6-4665-d6de-dc2de23b4af7"
      },
      "outputs": [
        {
          "output_type": "stream",
          "name": "stdout",
          "text": [
            "Enter your numbers 120 325 128 451 524\n",
            "['120', '325', '128', '451', '524']\n"
          ]
        }
      ],
      "source": [
        "Numbers = input(\"Enter your numbers \")\n",
        "number_list = Numbers.split()\n",
        "print(number_list)"
      ]
    },
    {
      "cell_type": "code",
      "source": [
        "count = 0\n",
        "for i in number_list:\n",
        "  count = count+1\n",
        "print(count)"
      ],
      "metadata": {
        "colab": {
          "base_uri": "https://localhost:8080/"
        },
        "id": "4KMotpiCfXj4",
        "outputId": "f2eabdef-bf83-457a-a0de-93fc47a5fa77"
      },
      "execution_count": 7,
      "outputs": [
        {
          "output_type": "stream",
          "name": "stdout",
          "text": [
            "5\n"
          ]
        }
      ]
    },
    {
      "cell_type": "code",
      "source": [
        "for i in range(0, count):\n",
        "  number_list[i]=int(number_list[i])\n",
        "print(number_list)"
      ],
      "metadata": {
        "colab": {
          "base_uri": "https://localhost:8080/"
        },
        "id": "PfNlbEDufj2Z",
        "outputId": "edd73d3e-0b84-4cea-ffd3-9ac975bc7c0d"
      },
      "execution_count": 8,
      "outputs": [
        {
          "output_type": "stream",
          "name": "stdout",
          "text": [
            "[120, 325, 128, 451, 524]\n"
          ]
        }
      ]
    },
    {
      "cell_type": "code",
      "source": [
        "max_number = 0\n",
        "for i in number_list:\n",
        "  if max_number > i:\n",
        "    max_number = max_number\n",
        "  elif max_number < i:\n",
        "    max_number = i\n",
        "    i = i+1\n",
        "print(max_number)\n"
      ],
      "metadata": {
        "colab": {
          "base_uri": "https://localhost:8080/"
        },
        "id": "pbs6Bvktf0TW",
        "outputId": "15391268-79fc-40bd-fd18-20f54bd3fae0"
      },
      "execution_count": 10,
      "outputs": [
        {
          "output_type": "stream",
          "name": "stdout",
          "text": [
            "524\n"
          ]
        }
      ]
    }
  ]
}