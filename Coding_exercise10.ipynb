{
  "nbformat": 4,
  "nbformat_minor": 0,
  "metadata": {
    "colab": {
      "provenance": [],
      "authorship_tag": "ABX9TyO4PFg7L19egfXqPHW54Pyg",
      "include_colab_link": true
    },
    "kernelspec": {
      "name": "python3",
      "display_name": "Python 3"
    },
    "language_info": {
      "name": "python"
    }
  },
  "cells": [
    {
      "cell_type": "markdown",
      "metadata": {
        "id": "view-in-github",
        "colab_type": "text"
      },
      "source": [
        "<a href=\"https://colab.research.google.com/github/bakhtkhan123/Python-Projects-Exercises/blob/main/Coding_exercise10.ipynb\" target=\"_parent\"><img src=\"https://colab.research.google.com/assets/colab-badge.svg\" alt=\"Open In Colab\"/></a>"
      ]
    },
    {
      "cell_type": "markdown",
      "source": [
        "## Proram to pick random name to pay the bill of everyday food"
      ],
      "metadata": {
        "id": "O1m1rGN_pTny"
      }
    },
    {
      "cell_type": "code",
      "execution_count": 9,
      "metadata": {
        "colab": {
          "base_uri": "https://localhost:8080/"
        },
        "id": "Q46NWIF5pMdA",
        "outputId": "61c6a4ae-54ce-4743-bbb2-b13e8c75430d"
      },
      "outputs": [
        {
          "output_type": "stream",
          "name": "stdout",
          "text": [
            "Enter names separated by comma: bakht,ijaz,bashir,sami,murtaza\n",
            "['bakht', 'ijaz', 'bashir', 'sami', 'murtaza']\n",
            "bakht will pay the bill\n"
          ]
        }
      ],
      "source": [
        "import random\n",
        "Friend_names=input(\"Enter names separated by comma: \")\n",
        "Names = Friend_names.split(\",\")\n",
        "print(Names)\n",
        "length=len(Names)\n",
        "random_name = random.randint(0,length-1)\n",
        "print(f\"{Names[random_name]} will pay the bill\")"
      ]
    }
  ]
}