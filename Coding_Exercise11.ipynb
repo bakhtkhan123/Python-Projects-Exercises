{
  "nbformat": 4,
  "nbformat_minor": 0,
  "metadata": {
    "colab": {
      "provenance": [],
      "authorship_tag": "ABX9TyMxz6Xkd82DXj2WBYTYrwQR",
      "include_colab_link": true
    },
    "kernelspec": {
      "name": "python3",
      "display_name": "Python 3"
    },
    "language_info": {
      "name": "python"
    }
  },
  "cells": [
    {
      "cell_type": "markdown",
      "metadata": {
        "id": "view-in-github",
        "colab_type": "text"
      },
      "source": [
        "<a href=\"https://colab.research.google.com/github/bakhtkhan123/Python-Projects-Exercises/blob/main/Coding_Exercise11.ipynb\" target=\"_parent\"><img src=\"https://colab.research.google.com/assets/colab-badge.svg\" alt=\"Open In Colab\"/></a>"
      ]
    },
    {
      "cell_type": "markdown",
      "source": [
        "##Make a metrix of 3x3 for hidding any value at user desire position.\n"
      ],
      "metadata": {
        "id": "JVvhOZs7mmhy"
      }
    },
    {
      "cell_type": "code",
      "execution_count": null,
      "metadata": {
        "colab": {
          "base_uri": "https://localhost:8080/"
        },
        "id": "lL1xUV3pmG8I",
        "outputId": "a43600f4-4a51-4ff5-a09a-088a2114b9a5"
      },
      "outputs": [
        {
          "output_type": "stream",
          "name": "stdout",
          "text": [
            "[1, 1, 1]\n",
            "[1, 1, 1]\n",
            "[1, 1, 1]\n"
          ]
        }
      ],
      "source": [
        "Matrix = [[1,1,1],[1,1,1],[1,1,1]]\n",
        "print(f\"{Matrix[0]}\\n{Matrix[1]}\\n{Matrix[2]}\")"
      ]
    },
    {
      "cell_type": "code",
      "source": [
        "Input_number=int(input(\"Enter your location in the Matrix =\"))\n",
        "replace_index = \"X\"\n",
        "if Input_number == 11:\n",
        "  Matrix[0][0]=replace_index\n",
        "elif Input_number == 12:\n",
        "  Matrix[0][1] = replace_index\n",
        "elif Input_number == 13:\n",
        "  Matrix[0][2] = replace_index\n",
        "elif Input_number == 21:\n",
        "  Matrix[1][0] = replace_index\n",
        "elif Input_number == 22:\n",
        "  Matrix[1][1] = replace_index\n",
        "elif Input_number == 23:\n",
        "  Matrix[1][2] = replace_index\n",
        "elif Input_number == 31:\n",
        "  Matrix[2][0] = replace_index\n",
        "elif Input_number == 32:\n",
        "  Matrix[2][1] = replace_index\n",
        "elif Input_number == 33:\n",
        "  Matrix[2][2] = replace_index\n",
        "else:\n",
        "  print(\"enter the correct location\")"
      ],
      "metadata": {
        "colab": {
          "base_uri": "https://localhost:8080/"
        },
        "id": "yL26VeDfpRI_",
        "outputId": "4bdae5fc-88f5-4c85-ddff-3ee3915ea9b4"
      },
      "execution_count": null,
      "outputs": [
        {
          "name": "stdout",
          "output_type": "stream",
          "text": [
            "Enter your location in the Matrix =32\n"
          ]
        }
      ]
    },
    {
      "cell_type": "code",
      "source": [
        "print(f\"{Matrix[0]}\\n{Matrix[1]}\\n{Matrix[2]}\")"
      ],
      "metadata": {
        "colab": {
          "base_uri": "https://localhost:8080/"
        },
        "id": "2kpsLfyWsQV8",
        "outputId": "1b42823f-1468-480f-b187-1bc6807d8cf7"
      },
      "execution_count": null,
      "outputs": [
        {
          "output_type": "stream",
          "name": "stdout",
          "text": [
            "[1, 1, 1]\n",
            "[1, 1, 1]\n",
            "[1, 'X', 1]\n"
          ]
        }
      ]
    },
    {
      "cell_type": "code",
      "source": [
        "Row_1 = [0,0,0]\n",
        "Row_2 = [0,0,0]\n",
        "Row_3 = [0,0,0]\n",
        "Matrix= [Row_1,Row_2,Row_3]\n",
        "print(f\"{Matrix[0]}\\n{Matrix[1]}\\n{Matrix[2]}\")\n",
        "\n",
        "Location = input(\"Enter the position at which you want to hide something =\")\n",
        "\n",
        "Row_number = int(Location[0])\n",
        "Column_number = int(Location[1])\n",
        "Row_selected = Matrix[Row_number -1]\n",
        "Row_selected[Column_number -1] = \"X\"\n",
        "print(f\"{Matrix[0]}\\n{Matrix[1]}\\n{Matrix[2]}\")"
      ],
      "metadata": {
        "id": "e0AKMzglwFcb",
        "outputId": "89b43b75-8a1d-448c-b9c0-df7b78336c2d",
        "colab": {
          "base_uri": "https://localhost:8080/"
        }
      },
      "execution_count": null,
      "outputs": [
        {
          "output_type": "stream",
          "name": "stdout",
          "text": [
            "[0, 0, 0]\n",
            "[0, 0, 0]\n",
            "[0, 0, 0]\n",
            "Enter the position at which you want to hide something =32\n",
            "[0, 0, 0]\n",
            "[0, 0, 0]\n",
            "[0, 'X', 0]\n"
          ]
        }
      ]
    }
  ]
}