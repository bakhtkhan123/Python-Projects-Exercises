{
  "nbformat": 4,
  "nbformat_minor": 0,
  "metadata": {
    "colab": {
      "provenance": [],
      "authorship_tag": "ABX9TyMaQVU+W7tWEhP7iMr/C9oU",
      "include_colab_link": true
    },
    "kernelspec": {
      "name": "python3",
      "display_name": "Python 3"
    },
    "language_info": {
      "name": "python"
    }
  },
  "cells": [
    {
      "cell_type": "markdown",
      "metadata": {
        "id": "view-in-github",
        "colab_type": "text"
      },
      "source": [
        "<a href=\"https://colab.research.google.com/github/bakhtkhan123/Python-Projects-Exercises/blob/main/Coding_Exercise11.ipynb\" target=\"_parent\"><img src=\"https://colab.research.google.com/assets/colab-badge.svg\" alt=\"Open In Colab\"/></a>"
      ]
    },
    {
      "cell_type": "markdown",
      "source": [
        "##Make a metrix of 3x3 for hidding any value at user desire position.\n"
      ],
      "metadata": {
        "id": "JVvhOZs7mmhy"
      }
    },
    {
      "cell_type": "code",
      "execution_count": 12,
      "metadata": {
        "colab": {
          "base_uri": "https://localhost:8080/"
        },
        "id": "lL1xUV3pmG8I",
        "outputId": "a43600f4-4a51-4ff5-a09a-088a2114b9a5"
      },
      "outputs": [
        {
          "output_type": "stream",
          "name": "stdout",
          "text": [
            "[1, 1, 1]\n",
            "[1, 1, 1]\n",
            "[1, 1, 1]\n"
          ]
        }
      ],
      "source": [
        "Matrix = [[1,1,1],[1,1,1],[1,1,1]]\n",
        "print(f\"{Matrix[0]}\\n{Matrix[1]}\\n{Matrix[2]}\")"
      ]
    },
    {
      "cell_type": "code",
      "source": [
        "Input_number=int(input(\"Enter your location in the Matrix =\"))\n",
        "replace_index = \"X\"\n",
        "if Input_number == 11:\n",
        "  Matrix[0][0]=replace_index\n",
        "elif Input_number == 12:\n",
        "  Matrix[0][1] = replace_index\n",
        "elif Input_number == 13:\n",
        "  Matrix[0][2] = replace_index\n",
        "elif Input_number == 21:\n",
        "  Matrix[1][0] = replace_index\n",
        "elif Input_number == 22:\n",
        "  Matrix[1][1] = replace_index\n",
        "elif Input_number == 23:\n",
        "  Matrix[1][2] = replace_index\n",
        "elif Input_number == 31:\n",
        "  Matrix[2][0] = replace_index\n",
        "elif Input_number == 32:\n",
        "  Matrix[2][1] = replace_index\n",
        "elif Input_number == 33:\n",
        "  Matrix[2][2] = replace_index\n",
        "else:\n",
        "  print(\"enter the correct location\")"
      ],
      "metadata": {
        "colab": {
          "base_uri": "https://localhost:8080/"
        },
        "id": "yL26VeDfpRI_",
        "outputId": "4bdae5fc-88f5-4c85-ddff-3ee3915ea9b4"
      },
      "execution_count": 13,
      "outputs": [
        {
          "name": "stdout",
          "output_type": "stream",
          "text": [
            "Enter your location in the Matrix =32\n"
          ]
        }
      ]
    },
    {
      "cell_type": "code",
      "source": [
        "print(f\"{Matrix[0]}\\n{Matrix[1]}\\n{Matrix[2]}\")"
      ],
      "metadata": {
        "colab": {
          "base_uri": "https://localhost:8080/"
        },
        "id": "2kpsLfyWsQV8",
        "outputId": "1b42823f-1468-480f-b187-1bc6807d8cf7"
      },
      "execution_count": 14,
      "outputs": [
        {
          "output_type": "stream",
          "name": "stdout",
          "text": [
            "[1, 1, 1]\n",
            "[1, 1, 1]\n",
            "[1, 'X', 1]\n"
          ]
        }
      ]
    }
  ]
}